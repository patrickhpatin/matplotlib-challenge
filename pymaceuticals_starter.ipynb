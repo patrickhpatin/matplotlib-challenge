{
 "cells": [
  {
   "cell_type": "markdown",
   "metadata": {},
   "source": [
    "## Observations and Insights"
   ]
  },
  {
   "cell_type": "markdown",
   "metadata": {},
   "source": []
  },
  {
   "cell_type": "markdown",
   "metadata": {},
   "source": [
    "# <center>My Observations During This Study</center>\n",
    "<img src=\"images/left_mouse.png\" alt=\"Cancer Sucks\" width=\"100%\" style=\"border: none;\" /><br>\n",
    "1. Tumor Volume appears to have a direct relationship to the mouse weight.  In other words, the tumor size seems to grow in proportion to the weight of the mouse.  So, heavier mice, tend to have larger tumors.\n",
    "\n",
    "2. As the following figures demonstrate, the sex of the mouse does not appear to have any positive or negative affect on the success of the program.  3 of the most successful programs were mostly female (Capomulin, Ceftamin and Infubinol) while the 4th regimen had almost twice as many males as females (Ramicane).  Yet, their average tumor volumes (mm3) for each regimen and mouse gender did not differ by much at all.\n",
    "<table><tr><td align=\"left\"><img src=\"images/MouseRegimenGenders.png\" width=\"450px\" align=\"left\" style=\"border: none;\" /></td><td align=\"left\"><img src=\"images/MouseRegimenGenderTumorV.png\" width=\"450px\" align=\"left\" style=\"border: none;\" /></td></tr></table>\n",
    "<br>\n",
    "3. The more successful programs any significant differences between Metastatic tumors between male and female mice.  And though Ramicane males had far more metastatic sites, keep in mind that this regimen had almost twice as many males.  So, the distribution is fairly even across the mice sexes.\n",
    "<br>\n",
    "<br>\n",
    "<table><tr><td align=\"left\"><img src=\"images/MetastaticSites.png\" width=\"450px\" align=\"left\" style=\"border: none;\" /></td></tr></table>\n",
    "<br>\n",
    "<br>\n",
    "4. For our project, we focused on the 4 most successful treatment programs (Capomulin, Ceftamin, Infubinol and Ramicane). However, the chart below shows that only 2 the treatment programs (Capomulin and Ramicane) showed reductions in tumor volumes over the course of the treatment while all of the other treatment programs did not appear to much of an affect (positive or negative) on the average tumor volume when compared to the control (Placebo).\n",
    "<br><br>\n",
    "<table><tr><td align=\"left\"><img src=\"images/TVol_Timepoint.png\" width=\"450px\" align=\"left\" style=\"border: none;\" /></td></tr></table>\n",
    "<br>\n",
    "<br>\n",
    "5. Observation #4 (above) is further supported by the chart below. Here we see survival rates of mice over the course of each of the treatment regimens. The most successful programs (Capomulin and Ramicane) show more surviving mice at the end of the study while the other tratment programs show steep decreases in mouse survival numbers.\n",
    "<br><br>\n",
    "<table><tr><td align=\"left\"><img src=\"images/mouse_survivalrates.png\" width=\"450px\" align=\"left\" style=\"border: none;\" /></td></tr></table>\n",
    "<br>\n",
    "<br>\n",
    "6. Last but not least, no mice were harmed during my analysis of the data."
   ]
  },
  {
   "cell_type": "markdown",
   "metadata": {},
   "source": [
    "# Dependencies and starter code"
   ]
  },
  {
   "cell_type": "code",
   "execution_count": 1,
   "metadata": {},
   "outputs": [],
   "source": [
    "# Dependencies and Setup\n",
    "import matplotlib.pyplot as plt\n",
    "import pandas as pd\n",
    "import scipy.stats as st\n",
    "import numpy as np\n",
    "import os as os"
   ]
  },
  {
   "cell_type": "markdown",
   "metadata": {},
   "source": [
    "## Summary statistics"
   ]
  },
  {
   "cell_type": "code",
   "execution_count": 2,
   "metadata": {},
   "outputs": [
    {
     "data": {
      "text/html": [
       "<div>\n",
       "<style scoped>\n",
       "    .dataframe tbody tr th:only-of-type {\n",
       "        vertical-align: middle;\n",
       "    }\n",
       "\n",
       "    .dataframe tbody tr th {\n",
       "        vertical-align: top;\n",
       "    }\n",
       "\n",
       "    .dataframe thead th {\n",
       "        text-align: right;\n",
       "    }\n",
       "</style>\n",
       "<table border=\"1\" class=\"dataframe\">\n",
       "  <thead>\n",
       "    <tr style=\"text-align: right;\">\n",
       "      <th></th>\n",
       "      <th>Mouse ID</th>\n",
       "      <th>Timepoint</th>\n",
       "      <th>Tumor Volume (mm3)</th>\n",
       "      <th>Metastatic Sites</th>\n",
       "      <th>Drug Regimen</th>\n",
       "      <th>Sex</th>\n",
       "      <th>Age_months</th>\n",
       "      <th>Weight (g)</th>\n",
       "    </tr>\n",
       "  </thead>\n",
       "  <tbody>\n",
       "    <tr>\n",
       "      <th>0</th>\n",
       "      <td>b128</td>\n",
       "      <td>0</td>\n",
       "      <td>45.000000</td>\n",
       "      <td>0</td>\n",
       "      <td>Capomulin</td>\n",
       "      <td>Female</td>\n",
       "      <td>9</td>\n",
       "      <td>22</td>\n",
       "    </tr>\n",
       "    <tr>\n",
       "      <th>1</th>\n",
       "      <td>b128</td>\n",
       "      <td>5</td>\n",
       "      <td>45.651331</td>\n",
       "      <td>0</td>\n",
       "      <td>Capomulin</td>\n",
       "      <td>Female</td>\n",
       "      <td>9</td>\n",
       "      <td>22</td>\n",
       "    </tr>\n",
       "    <tr>\n",
       "      <th>2</th>\n",
       "      <td>b128</td>\n",
       "      <td>10</td>\n",
       "      <td>43.270852</td>\n",
       "      <td>0</td>\n",
       "      <td>Capomulin</td>\n",
       "      <td>Female</td>\n",
       "      <td>9</td>\n",
       "      <td>22</td>\n",
       "    </tr>\n",
       "    <tr>\n",
       "      <th>3</th>\n",
       "      <td>b128</td>\n",
       "      <td>15</td>\n",
       "      <td>43.784893</td>\n",
       "      <td>0</td>\n",
       "      <td>Capomulin</td>\n",
       "      <td>Female</td>\n",
       "      <td>9</td>\n",
       "      <td>22</td>\n",
       "    </tr>\n",
       "    <tr>\n",
       "      <th>4</th>\n",
       "      <td>b128</td>\n",
       "      <td>20</td>\n",
       "      <td>42.731552</td>\n",
       "      <td>0</td>\n",
       "      <td>Capomulin</td>\n",
       "      <td>Female</td>\n",
       "      <td>9</td>\n",
       "      <td>22</td>\n",
       "    </tr>\n",
       "    <tr>\n",
       "      <th>...</th>\n",
       "      <td>...</td>\n",
       "      <td>...</td>\n",
       "      <td>...</td>\n",
       "      <td>...</td>\n",
       "      <td>...</td>\n",
       "      <td>...</td>\n",
       "      <td>...</td>\n",
       "      <td>...</td>\n",
       "    </tr>\n",
       "    <tr>\n",
       "      <th>1888</th>\n",
       "      <td>m601</td>\n",
       "      <td>25</td>\n",
       "      <td>33.118756</td>\n",
       "      <td>1</td>\n",
       "      <td>Capomulin</td>\n",
       "      <td>Male</td>\n",
       "      <td>22</td>\n",
       "      <td>17</td>\n",
       "    </tr>\n",
       "    <tr>\n",
       "      <th>1889</th>\n",
       "      <td>m601</td>\n",
       "      <td>30</td>\n",
       "      <td>31.758275</td>\n",
       "      <td>1</td>\n",
       "      <td>Capomulin</td>\n",
       "      <td>Male</td>\n",
       "      <td>22</td>\n",
       "      <td>17</td>\n",
       "    </tr>\n",
       "    <tr>\n",
       "      <th>1890</th>\n",
       "      <td>m601</td>\n",
       "      <td>35</td>\n",
       "      <td>30.834357</td>\n",
       "      <td>1</td>\n",
       "      <td>Capomulin</td>\n",
       "      <td>Male</td>\n",
       "      <td>22</td>\n",
       "      <td>17</td>\n",
       "    </tr>\n",
       "    <tr>\n",
       "      <th>1891</th>\n",
       "      <td>m601</td>\n",
       "      <td>40</td>\n",
       "      <td>31.378045</td>\n",
       "      <td>1</td>\n",
       "      <td>Capomulin</td>\n",
       "      <td>Male</td>\n",
       "      <td>22</td>\n",
       "      <td>17</td>\n",
       "    </tr>\n",
       "    <tr>\n",
       "      <th>1892</th>\n",
       "      <td>m601</td>\n",
       "      <td>45</td>\n",
       "      <td>28.430964</td>\n",
       "      <td>1</td>\n",
       "      <td>Capomulin</td>\n",
       "      <td>Male</td>\n",
       "      <td>22</td>\n",
       "      <td>17</td>\n",
       "    </tr>\n",
       "  </tbody>\n",
       "</table>\n",
       "<p>1893 rows × 8 columns</p>\n",
       "</div>"
      ],
      "text/plain": [
       "     Mouse ID  Timepoint  Tumor Volume (mm3)  Metastatic Sites Drug Regimen  \\\n",
       "0        b128          0           45.000000                 0    Capomulin   \n",
       "1        b128          5           45.651331                 0    Capomulin   \n",
       "2        b128         10           43.270852                 0    Capomulin   \n",
       "3        b128         15           43.784893                 0    Capomulin   \n",
       "4        b128         20           42.731552                 0    Capomulin   \n",
       "...       ...        ...                 ...               ...          ...   \n",
       "1888     m601         25           33.118756                 1    Capomulin   \n",
       "1889     m601         30           31.758275                 1    Capomulin   \n",
       "1890     m601         35           30.834357                 1    Capomulin   \n",
       "1891     m601         40           31.378045                 1    Capomulin   \n",
       "1892     m601         45           28.430964                 1    Capomulin   \n",
       "\n",
       "         Sex  Age_months  Weight (g)  \n",
       "0     Female           9          22  \n",
       "1     Female           9          22  \n",
       "2     Female           9          22  \n",
       "3     Female           9          22  \n",
       "4     Female           9          22  \n",
       "...      ...         ...         ...  \n",
       "1888    Male          22          17  \n",
       "1889    Male          22          17  \n",
       "1890    Male          22          17  \n",
       "1891    Male          22          17  \n",
       "1892    Male          22          17  \n",
       "\n",
       "[1893 rows x 8 columns]"
      ]
     },
     "execution_count": 2,
     "metadata": {},
     "output_type": "execute_result"
    }
   ],
   "source": [
    "# Study data files\n",
    "mouse_data = os.path.join(\"data\", \"Mouse_metadata.csv\")\n",
    "study_results = os.path.join(\"data\", \"Study_results.csv\")\n",
    "\n",
    "# Read the mouse data and the study results\n",
    "mouse_data = pd.read_csv(mouse_data)\n",
    "study_results = pd.read_csv(study_results)\n",
    "\n",
    "# Combine the data into a single dataset\n",
    "merged_data = study_results.merge(mouse_data, on=\"Mouse ID\", how=\"outer\")\n",
    "\n",
    "# Display results of the merge\n",
    "merged_data"
   ]
  },
  {
   "cell_type": "code",
   "execution_count": 3,
   "metadata": {},
   "outputs": [
    {
     "data": {
      "text/html": [
       "<div>\n",
       "<style scoped>\n",
       "    .dataframe tbody tr th:only-of-type {\n",
       "        vertical-align: middle;\n",
       "    }\n",
       "\n",
       "    .dataframe tbody tr th {\n",
       "        vertical-align: top;\n",
       "    }\n",
       "\n",
       "    .dataframe thead th {\n",
       "        text-align: right;\n",
       "    }\n",
       "</style>\n",
       "<table border=\"1\" class=\"dataframe\">\n",
       "  <thead>\n",
       "    <tr style=\"text-align: right;\">\n",
       "      <th></th>\n",
       "      <th>Mean</th>\n",
       "      <th>Median</th>\n",
       "      <th>Variance</th>\n",
       "      <th>Std Dev</th>\n",
       "      <th>SEM</th>\n",
       "    </tr>\n",
       "    <tr>\n",
       "      <th>Drug Regimen</th>\n",
       "      <th></th>\n",
       "      <th></th>\n",
       "      <th></th>\n",
       "      <th></th>\n",
       "      <th></th>\n",
       "    </tr>\n",
       "  </thead>\n",
       "  <tbody>\n",
       "    <tr>\n",
       "      <th>Capomulin</th>\n",
       "      <td>40.675741</td>\n",
       "      <td>41.557809</td>\n",
       "      <td>24.947764</td>\n",
       "      <td>4.994774</td>\n",
       "      <td>0.329346</td>\n",
       "    </tr>\n",
       "    <tr>\n",
       "      <th>Ceftamin</th>\n",
       "      <td>52.591172</td>\n",
       "      <td>51.776157</td>\n",
       "      <td>39.290177</td>\n",
       "      <td>6.268188</td>\n",
       "      <td>0.469821</td>\n",
       "    </tr>\n",
       "    <tr>\n",
       "      <th>Infubinol</th>\n",
       "      <td>52.884795</td>\n",
       "      <td>51.820584</td>\n",
       "      <td>43.128684</td>\n",
       "      <td>6.567243</td>\n",
       "      <td>0.492236</td>\n",
       "    </tr>\n",
       "    <tr>\n",
       "      <th>Ketapril</th>\n",
       "      <td>55.235638</td>\n",
       "      <td>53.698743</td>\n",
       "      <td>68.553577</td>\n",
       "      <td>8.279709</td>\n",
       "      <td>0.603860</td>\n",
       "    </tr>\n",
       "    <tr>\n",
       "      <th>Naftisol</th>\n",
       "      <td>54.331565</td>\n",
       "      <td>52.509285</td>\n",
       "      <td>66.173479</td>\n",
       "      <td>8.134708</td>\n",
       "      <td>0.596466</td>\n",
       "    </tr>\n",
       "    <tr>\n",
       "      <th>Placebo</th>\n",
       "      <td>54.033581</td>\n",
       "      <td>52.288934</td>\n",
       "      <td>61.168083</td>\n",
       "      <td>7.821003</td>\n",
       "      <td>0.581331</td>\n",
       "    </tr>\n",
       "    <tr>\n",
       "      <th>Propriva</th>\n",
       "      <td>52.322552</td>\n",
       "      <td>50.854632</td>\n",
       "      <td>42.351070</td>\n",
       "      <td>6.507770</td>\n",
       "      <td>0.512884</td>\n",
       "    </tr>\n",
       "    <tr>\n",
       "      <th>Ramicane</th>\n",
       "      <td>40.216745</td>\n",
       "      <td>40.673236</td>\n",
       "      <td>23.486704</td>\n",
       "      <td>4.846308</td>\n",
       "      <td>0.320955</td>\n",
       "    </tr>\n",
       "    <tr>\n",
       "      <th>Stelasyn</th>\n",
       "      <td>54.233149</td>\n",
       "      <td>52.431737</td>\n",
       "      <td>59.450562</td>\n",
       "      <td>7.710419</td>\n",
       "      <td>0.573111</td>\n",
       "    </tr>\n",
       "    <tr>\n",
       "      <th>Zoniferol</th>\n",
       "      <td>53.236507</td>\n",
       "      <td>51.818479</td>\n",
       "      <td>48.533355</td>\n",
       "      <td>6.966589</td>\n",
       "      <td>0.516398</td>\n",
       "    </tr>\n",
       "  </tbody>\n",
       "</table>\n",
       "</div>"
      ],
      "text/plain": [
       "                   Mean     Median   Variance   Std Dev       SEM\n",
       "Drug Regimen                                                     \n",
       "Capomulin     40.675741  41.557809  24.947764  4.994774  0.329346\n",
       "Ceftamin      52.591172  51.776157  39.290177  6.268188  0.469821\n",
       "Infubinol     52.884795  51.820584  43.128684  6.567243  0.492236\n",
       "Ketapril      55.235638  53.698743  68.553577  8.279709  0.603860\n",
       "Naftisol      54.331565  52.509285  66.173479  8.134708  0.596466\n",
       "Placebo       54.033581  52.288934  61.168083  7.821003  0.581331\n",
       "Propriva      52.322552  50.854632  42.351070  6.507770  0.512884\n",
       "Ramicane      40.216745  40.673236  23.486704  4.846308  0.320955\n",
       "Stelasyn      54.233149  52.431737  59.450562  7.710419  0.573111\n",
       "Zoniferol     53.236507  51.818479  48.533355  6.966589  0.516398"
      ]
     },
     "execution_count": 3,
     "metadata": {},
     "output_type": "execute_result"
    }
   ],
   "source": [
    "# Generate a summary statistics table of mean, median, variance, standard deviation, and SEM of the tumor volume for each regimen\n",
    "tumor_volumes = merged_data[[\"Drug Regimen\", \"Tumor Volume (mm3)\"]].copy()\n",
    "\n",
    "# Sort the data so we can get accurate median values\n",
    "tumor_volumes = tumor_volumes.sort_values(by=[\"Drug Regimen\", \"Tumor Volume (mm3)\"], ascending=True)\n",
    "\n",
    "# Mean\n",
    "tumor_agg = tumor_volumes.groupby([\"Drug Regimen\"]).mean()\n",
    "# Median\n",
    "tumor_agg[\"Median\"] = tumor_volumes.groupby([\"Drug Regimen\"]).median()\n",
    "# Variance\n",
    "tumor_agg[\"Variance\"] = tumor_volumes.groupby([\"Drug Regimen\"]).var()\n",
    "# Standard Deviation\n",
    "tumor_agg[\"Std Dev\"] = tumor_volumes.groupby([\"Drug Regimen\"]).std()\n",
    "# SEM\n",
    "tumor_agg[\"SEM\"] = tumor_volumes.groupby([\"Drug Regimen\"]).sem()\n",
    "\n",
    "# Formatting, Column Renaming, Sorting etc\n",
    "tumor_agg = tumor_agg.rename(columns = {\"Tumor Volume (mm3)\":\"Mean\"})\n",
    "\n",
    "# Display our results\n",
    "tumor_agg"
   ]
  },
  {
   "cell_type": "markdown",
   "metadata": {},
   "source": [
    "## Bar plots"
   ]
  },
  {
   "cell_type": "code",
   "execution_count": 4,
   "metadata": {},
   "outputs": [
    {
     "data": {
      "image/png": "[encoded data removed]",
      "text/plain": [
       "<Figure size 432x288 with 1 Axes>"
      ]
     },
     "metadata": {
      "needs_background": "light"
     },
     "output_type": "display_data"
    }
   ],
   "source": [
    "# Generate a bar plot showing number of data points for each treatment regimen using pandas\n",
    "tumor_volumes = merged_data.groupby([\"Drug Regimen\"])[\"Tumor Volume (mm3)\"].count().to_frame()\n",
    "\n",
    "# Formatting, Column Renaming, Sorting etc\n",
    "tumor_volumes = tumor_volumes.rename(columns = {\"Tumor Volume (mm3)\":\"Data Point Count\"})\n",
    "\n",
    "# Display the results\n",
    "ax = tumor_volumes.plot.bar(title=\"Number of Data Points by Drug Regimen\", rot=70, legend=False)\n",
    "ax.set_ylim([0, 250])\n",
    "ax.set_xlabel(\"Drug Regimen\")\n",
    "ax.set_ylabel(\"Number of Data Points\")\n",
    "\n",
    "# Show the chart\n",
    "plt.show()"
   ]
  },
  {
   "cell_type": "code",
   "execution_count": 5,
   "metadata": {},
   "outputs": [
    {
     "data": {
      "image/png": "[encoded data removed]",
      "text/plain": [
       "<Figure size 432x288 with 1 Axes>"
      ]
     },
     "metadata": {
      "needs_background": "light"
     },
     "output_type": "display_data"
    }
   ],
   "source": [
    "# Generate a bar plot showing number of data points for each treatment regimen using pyplot\n",
    "pltbardata = tumor_volumes.reset_index(drop=False)\n",
    "plt.bar(pltbardata[\"Drug Regimen\"], pltbardata[\"Data Point Count\"])\n",
    "\n",
    "# Formatting\n",
    "plt.title(\"Data Points by Drug Regimen\")\n",
    "plt.xlabel(\"Drug Regimen\")\n",
    "plt.ylabel(\"Number of Data Points\")\n",
    "plt.ylim(0, 250)\n",
    "plt.xticks(rotation=70)\n",
    "\n",
    "# Show the chart\n",
    "plt.show()"
   ]
  },
  {
   "cell_type": "markdown",
   "metadata": {},
   "source": [
    "## Pie plots"
   ]
  },
  {
   "cell_type": "code",
   "execution_count": 6,
   "metadata": {},
   "outputs": [
    {
     "data": {
      "image/png": "[encoded data removed]",
      "text/plain": [
       "<Figure size 432x288 with 1 Axes>"
      ]
     },
     "metadata": {},
     "output_type": "display_data"
    }
   ],
   "source": [
    "# Generate a pie plot showing the distribution of female versus male mice using pandas\n",
    "mouse_genders = merged_data.groupby([\"Mouse ID\", \"Sex\"])[\"Timepoint\"].count().to_frame()\n",
    "mouse_genders.reset_index(level=0, inplace=True)\n",
    "mouse_genders = mouse_genders.groupby([\"Sex\"])[\"Mouse ID\"].count().to_frame()\n",
    "\n",
    "# Formatting, Column Renaming, Sorting etc\n",
    "explode = (.1, 0)\n",
    "mouse_genders = mouse_genders.rename(columns={\"Mouse ID\":\"Count\"})\n",
    "mouse_genders.plot.pie(subplots=True, autopct=\"%1.2f%%\", legend=False, title=\"Mouse Gender Proportions\")\n",
    "\n",
    "# Show the chart\n",
    "plt.show()"
   ]
  },
  {
   "cell_type": "code",
   "execution_count": 7,
   "metadata": {},
   "outputs": [
    {
     "data": {
      "image/png": "[encoded data removed]",
      "text/plain": [
       "<Figure size 432x288 with 1 Axes>"
      ]
     },
     "metadata": {},
     "output_type": "display_data"
    }
   ],
   "source": [
    "# Generate a pie plot showing the distribution of female versus male mice using pyplot\n",
    "genders = mouse_genders.index.values.tolist()\n",
    "\n",
    "# Start my chart\n",
    "fig, ax = plt.subplots()\n",
    "plt.title(\"Mouse Gender Proportions\")\n",
    "ax.pie(mouse_genders[\"Count\"], labels=genders, autopct=\"%1.2f%%\")\n",
    "ax.set_ylabel(\"Count\")\n",
    "\n",
    "# Show the chart\n",
    "plt.show()"
   ]
  },
  {
   "cell_type": "markdown",
   "metadata": {},
   "source": [
    "## Final Tumor Volumes For The 4 Most Promising Treatment Regimens"
   ]
  },
  {
   "cell_type": "code",
   "execution_count": 8,
   "metadata": {},
   "outputs": [
    {
     "data": {
      "image/png": "[encoded data removed]",
      "text/plain": [
       "<Figure size 432x288 with 1 Axes>"
      ]
     },
     "metadata": {
      "needs_background": "light"
     },
     "output_type": "display_data"
    }
   ],
   "source": [
    "# Calculate the final tumor volume of each mouse \n",
    "# across four of the most promising treatment regimens:\n",
    "# - Ramicane\n",
    "# - Capomulin\n",
    "# - Ceftamin\n",
    "# - Infubinol\n",
    "\n",
    "# Start with a unique set of Mouse IDs, Drug Regimes and max Timepoint data them remove all regimes not in our list\n",
    "# our list\n",
    "best_regimes = merged_data[merged_data[\"Drug Regimen\"].isin([\"Capomulin\", \"Ramicane\", \"Infubinol\", \"Ceftamin\"])]\n",
    "\n",
    "final_tumor_vol = best_regimes.groupby([\"Mouse ID\", \"Drug Regimen\", \"Sex\"])[\"Timepoint\"].max().to_frame()\n",
    "final_tumor_vol = final_tumor_vol.merge(best_regimes, on=[\"Mouse ID\", \"Timepoint\"], how=\"left\")\n",
    "final_tumor_vol = final_tumor_vol.sort_values(by=[\"Drug Regimen\", \"Tumor Volume (mm3)\"], ascending=False)\n",
    "\n",
    "# Display the results for Ramicane\n",
    "final_Ramicane = final_tumor_vol[final_tumor_vol[\"Drug Regimen\"].isin([\"Ramicane\"])].set_index('Mouse ID')\n",
    "ax = final_Ramicane[\"Tumor Volume (mm3)\"].plot.barh(title=\"Ramicane Final Tumor Volumes\", fontsize=8, xlim=(0,80), legend=True)\n",
    "ax.set_ylabel(\"Mouse ID\")\n",
    "ax.set_xlabel(\"Final Tumor Volume (mm3)\")\n",
    "\n",
    "# Show the chart\n",
    "plt.show()"
   ]
  },
  {
   "cell_type": "code",
   "execution_count": 9,
   "metadata": {},
   "outputs": [
    {
     "data": {
      "image/png": "[encoded data removed]",
      "text/plain": [
       "<Figure size 432x288 with 1 Axes>"
      ]
     },
     "metadata": {
      "needs_background": "light"
     },
     "output_type": "display_data"
    }
   ],
   "source": [
    "# Display the results for Capomulin\n",
    "final_Capomulin = final_tumor_vol[final_tumor_vol[\"Drug Regimen\"].isin([\"Capomulin\"])].set_index('Mouse ID')\n",
    "ax = final_Capomulin[\"Tumor Volume (mm3)\"].plot.barh(title=\"Capomulin Final Tumor Volumes\", fontsize=8, xlim=(0,80), legend=True)\n",
    "ax.set_ylabel(\"Mouse ID\")\n",
    "ax.set_xlabel(\"Final Tumor Volume (mm3)\")\n",
    "\n",
    "# Show the chart\n",
    "plt.show()"
   ]
  },
  {
   "cell_type": "code",
   "execution_count": 10,
   "metadata": {},
   "outputs": [
    {
     "data": {
      "image/png": "[encoded data removed]",
      "text/plain": [
       "<Figure size 432x288 with 1 Axes>"
      ]
     },
     "metadata": {
      "needs_background": "light"
     },
     "output_type": "display_data"
    }
   ],
   "source": [
    "# Display the results for Ceftamin\n",
    "final_Ceftamin = final_tumor_vol[final_tumor_vol[\"Drug Regimen\"].isin([\"Ceftamin\"])].set_index('Mouse ID')\n",
    "ax = final_Ceftamin[\"Tumor Volume (mm3)\"].plot.barh(title=\"Ceftamin Final Tumor Volumes\", fontsize=8, xlim=(0,80), legend=False)\n",
    "ax.set_ylabel(\"Mouse ID\")\n",
    "ax.set_xlabel(\"Final Tumor Volume (mm3)\")\n",
    "\n",
    "# Show the chart\n",
    "plt.show()"
   ]
  },
  {
   "cell_type": "code",
   "execution_count": 11,
   "metadata": {},
   "outputs": [
    {
     "data": {
      "image/png": "[encoded data removed]",
      "text/plain": [
       "<Figure size 432x288 with 1 Axes>"
      ]
     },
     "metadata": {
      "needs_background": "light"
     },
     "output_type": "display_data"
    }
   ],
   "source": [
    "# Display the results for Infubinol\n",
    "final_Infubinol = final_tumor_vol[final_tumor_vol[\"Drug Regimen\"].isin([\"Infubinol\"])].set_index('Mouse ID')\n",
    "ax = final_Infubinol[\"Tumor Volume (mm3)\"].plot.barh(title=\"Infubinol Final Tumor Volumes\", fontsize=8, xlim=(0,80), legend=False)\n",
    "ax.set_ylabel(\"Mouse ID\")\n",
    "ax.set_xlabel(\"Final Tumor Volume (mm3)\")\n",
    "\n",
    "# Show the chart\n",
    "plt.show()"
   ]
  },
  {
   "cell_type": "markdown",
   "metadata": {},
   "source": [
    "# Regimen Summary (Quartiles etc.)"
   ]
  },
  {
   "cell_type": "code",
   "execution_count": 12,
   "metadata": {},
   "outputs": [
    {
     "data": {
      "text/html": [
       "<div>\n",
       "<style scoped>\n",
       "    .dataframe tbody tr th:only-of-type {\n",
       "        vertical-align: middle;\n",
       "    }\n",
       "\n",
       "    .dataframe tbody tr th {\n",
       "        vertical-align: top;\n",
       "    }\n",
       "\n",
       "    .dataframe thead th {\n",
       "        text-align: right;\n",
       "    }\n",
       "</style>\n",
       "<table border=\"1\" class=\"dataframe\">\n",
       "  <thead>\n",
       "    <tr style=\"text-align: right;\">\n",
       "      <th></th>\n",
       "      <th>Drug Regimen</th>\n",
       "      <th>Min</th>\n",
       "      <th>Max</th>\n",
       "      <th>Mean</th>\n",
       "      <th>Median</th>\n",
       "      <th>LQ</th>\n",
       "      <th>UQ</th>\n",
       "      <th>IQR</th>\n",
       "      <th>LBound</th>\n",
       "      <th>UBound</th>\n",
       "    </tr>\n",
       "  </thead>\n",
       "  <tbody>\n",
       "    <tr>\n",
       "      <th>0</th>\n",
       "      <td>Ramicane</td>\n",
       "      <td>22.050126</td>\n",
       "      <td>45.220869</td>\n",
       "      <td>36.191390</td>\n",
       "      <td>36.561652</td>\n",
       "      <td>31.560470</td>\n",
       "      <td>40.659006</td>\n",
       "      <td>9.098537</td>\n",
       "      <td>17.912664</td>\n",
       "      <td>54.306811</td>\n",
       "    </tr>\n",
       "    <tr>\n",
       "      <th>1</th>\n",
       "      <td>Capomulin</td>\n",
       "      <td>23.343598</td>\n",
       "      <td>47.685963</td>\n",
       "      <td>36.667568</td>\n",
       "      <td>38.125164</td>\n",
       "      <td>32.377357</td>\n",
       "      <td>40.159220</td>\n",
       "      <td>7.781863</td>\n",
       "      <td>20.704562</td>\n",
       "      <td>51.832015</td>\n",
       "    </tr>\n",
       "    <tr>\n",
       "      <th>2</th>\n",
       "      <td>Ceftamin</td>\n",
       "      <td>45.000000</td>\n",
       "      <td>68.923185</td>\n",
       "      <td>57.753977</td>\n",
       "      <td>59.851956</td>\n",
       "      <td>48.722078</td>\n",
       "      <td>64.299830</td>\n",
       "      <td>15.577752</td>\n",
       "      <td>25.355450</td>\n",
       "      <td>87.666458</td>\n",
       "    </tr>\n",
       "    <tr>\n",
       "      <th>3</th>\n",
       "      <td>Infubinol</td>\n",
       "      <td>36.321346</td>\n",
       "      <td>72.226731</td>\n",
       "      <td>58.178246</td>\n",
       "      <td>60.165180</td>\n",
       "      <td>54.048608</td>\n",
       "      <td>65.525743</td>\n",
       "      <td>11.477135</td>\n",
       "      <td>36.832905</td>\n",
       "      <td>82.741446</td>\n",
       "    </tr>\n",
       "  </tbody>\n",
       "</table>\n",
       "</div>"
      ],
      "text/plain": [
       "  Drug Regimen        Min        Max       Mean     Median         LQ  \\\n",
       "0     Ramicane  22.050126  45.220869  36.191390  36.561652  31.560470   \n",
       "1    Capomulin  23.343598  47.685963  36.667568  38.125164  32.377357   \n",
       "2     Ceftamin  45.000000  68.923185  57.753977  59.851956  48.722078   \n",
       "3    Infubinol  36.321346  72.226731  58.178246  60.165180  54.048608   \n",
       "\n",
       "          UQ        IQR     LBound     UBound  \n",
       "0  40.659006   9.098537  17.912664  54.306811  \n",
       "1  40.159220   7.781863  20.704562  51.832015  \n",
       "2  64.299830  15.577752  25.355450  87.666458  \n",
       "3  65.525743  11.477135  36.832905  82.741446  "
      ]
     },
     "execution_count": 12,
     "metadata": {},
     "output_type": "execute_result"
    }
   ],
   "source": [
    "# Calculate the IQR and quantitatively determine if there are any potential outliers.\n",
    "# Create our Dataframe for our Regimen Summary\n",
    "regimen_summary = pd.DataFrame({\"Drug Regimen\":[\"Ramicane\",\"Capomulin\",\"Ceftamin\",\"Infubinol\"]})\n",
    "\n",
    "# sort our data before calculating the Median\n",
    "final_Ramicane = final_Ramicane.sort_values(by=[\"Tumor Volume (mm3)\"], ascending=True)\n",
    "final_Capomulin = final_Capomulin.sort_values(by=[\"Tumor Volume (mm3)\"], ascending=True)\n",
    "final_Ceftamin = final_Ceftamin.sort_values(by=[\"Tumor Volume (mm3)\"], ascending=True)\n",
    "final_Infubinol = final_Infubinol.sort_values(by=[\"Tumor Volume (mm3)\"], ascending=True)\n",
    "\n",
    "# Reset the indices\n",
    "final_Ramicane = final_Ramicane.reset_index(drop=False)\n",
    "final_Capomulin = final_Capomulin.reset_index(drop=False)\n",
    "final_Ceftamin = final_Ceftamin.reset_index(drop=False)\n",
    "final_Infubinol = final_Infubinol.reset_index(drop=False)\n",
    "\n",
    "# Mean for the 4 best Drug Regimens\n",
    "regimen_summary[\"Min\"] = pd.DataFrame({\"Min\":[final_Ramicane[\"Tumor Volume (mm3)\"].min(), \n",
    "                                              final_Capomulin[\"Tumor Volume (mm3)\"].min(), \n",
    "                                              final_Ceftamin[\"Tumor Volume (mm3)\"].min(), \n",
    "                                              final_Infubinol[\"Tumor Volume (mm3)\"].min()]})\n",
    "\n",
    "# Max for the 4 best Drug Regimens\n",
    "regimen_summary[\"Max\"] = pd.DataFrame({\"Max\":[final_Ramicane[\"Tumor Volume (mm3)\"].max(), \n",
    "                                              final_Capomulin[\"Tumor Volume (mm3)\"].max(), \n",
    "                                              final_Ceftamin[\"Tumor Volume (mm3)\"].max(), \n",
    "                                              final_Infubinol[\"Tumor Volume (mm3)\"].max()]})\n",
    "\n",
    "# Mean for the 4 best Drug Regimens\n",
    "regimen_summary[\"Mean\"] = pd.DataFrame({\"Mean\":[final_Ramicane[\"Tumor Volume (mm3)\"].mean(), \n",
    "                                                final_Capomulin[\"Tumor Volume (mm3)\"].mean(), \n",
    "                                                final_Ceftamin[\"Tumor Volume (mm3)\"].mean(), \n",
    "                                                final_Infubinol[\"Tumor Volume (mm3)\"].mean()]})\n",
    "\n",
    "# Median for the 4 best Drug Regimens\n",
    "regimen_summary[\"Median\"] = pd.DataFrame({\"Median\":[final_Ramicane[\"Tumor Volume (mm3)\"].median(), \n",
    "                                                    final_Capomulin[\"Tumor Volume (mm3)\"].median(), \n",
    "                                                    final_Ceftamin[\"Tumor Volume (mm3)\"].median(), \n",
    "                                                    final_Infubinol[\"Tumor Volume (mm3)\"].median()\n",
    "                                                   ]})\n",
    "\n",
    "# Prepare to calculate quantile information\n",
    "Ramicane_Vols = final_Ramicane[\"Tumor Volume (mm3)\"].to_frame()\n",
    "Capomulin_Vols = final_Capomulin[\"Tumor Volume (mm3)\"].to_frame()\n",
    "Ceftamin_Vols = final_Ceftamin[\"Tumor Volume (mm3)\"].to_frame()\n",
    "Infubinol_Vols = final_Infubinol[\"Tumor Volume (mm3)\"].to_frame()\n",
    "\n",
    "# Get Quantiles for the 4 best Drug Regimens\n",
    "Qs_Ramicane = Ramicane_Vols.quantile([.25, .75], axis = 0)\n",
    "Qs_Capomulin = Capomulin_Vols.quantile([.25, .75], axis = 0)\n",
    "Qs_Ceftamin = Ceftamin_Vols.quantile([.25, .75], axis = 0)\n",
    "Qs_Infubinol = Infubinol_Vols.quantile([.25, .75], axis = 0)\n",
    "\n",
    "# Lower Quartile for the 4 best Drug Regimens\n",
    "LQ_Ramicane = Qs_Ramicane.loc[0.25]\n",
    "LQ_Capomulin = Qs_Capomulin.loc[0.25]\n",
    "LQ_Ceftamin = Qs_Ceftamin.loc[0.25]\n",
    "LQ_Infubinol = Qs_Infubinol.loc[0.25]\n",
    "\n",
    "# Upper Quartile for the 4 best Drug Regimens\n",
    "UQ_Ramicane = Qs_Ramicane.loc[0.75]\n",
    "UQ_Capomulin = Qs_Capomulin.loc[0.75]\n",
    "UQ_Ceftamin = Qs_Ceftamin.loc[0.75]\n",
    "UQ_Infubinol = Qs_Infubinol.loc[0.75]\n",
    "\n",
    "# Lower Quartile for the 4 best Drug Regimens\n",
    "IQR_Ramicane = UQ_Ramicane - LQ_Ramicane\n",
    "IQR_Capomulin = UQ_Capomulin - LQ_Capomulin\n",
    "IQR_Ceftamin = UQ_Ceftamin - LQ_Ceftamin\n",
    "IQR_Infubinol = UQ_Infubinol - LQ_Infubinol\n",
    "\n",
    "# Stick all of that stuff into our Regimen Dataframe\n",
    "regimen_summary[\"LQ\"] = pd.DataFrame({\"LQ\":[LQ_Ramicane[\"Tumor Volume (mm3)\"], \n",
    "                                            LQ_Capomulin[\"Tumor Volume (mm3)\"], \n",
    "                                            LQ_Ceftamin[\"Tumor Volume (mm3)\"], \n",
    "                                            LQ_Infubinol[\"Tumor Volume (mm3)\"]\n",
    "                                           ]})\n",
    "regimen_summary[\"UQ\"] = pd.DataFrame({\"UQ\":[UQ_Ramicane[\"Tumor Volume (mm3)\"], \n",
    "                                            UQ_Capomulin[\"Tumor Volume (mm3)\"], \n",
    "                                            UQ_Ceftamin[\"Tumor Volume (mm3)\"], \n",
    "                                            UQ_Infubinol[\"Tumor Volume (mm3)\"]\n",
    "                                           ]})\n",
    "regimen_summary[\"IQR\"] = pd.DataFrame({\"IQR\":[IQR_Ramicane[\"Tumor Volume (mm3)\"], \n",
    "                                              IQR_Capomulin[\"Tumor Volume (mm3)\"], \n",
    "                                              IQR_Ceftamin[\"Tumor Volume (mm3)\"], \n",
    "                                              IQR_Infubinol[\"Tumor Volume (mm3)\"]\n",
    "                                             ]})\n",
    "\n",
    "regimen_summary[\"LBound\"] = regimen_summary[\"LQ\"] - (1.5 * regimen_summary[\"IQR\"])\n",
    "regimen_summary[\"UBound\"] = regimen_summary[\"UQ\"] + (1.5 * regimen_summary[\"IQR\"])\n",
    "\n",
    "# Display the Regimen Summary\n",
    "regimen_summary"
   ]
  },
  {
   "cell_type": "markdown",
   "metadata": {},
   "source": [
    "# Determine If Any Outliers Exist In Any Of The Treatment Regimens"
   ]
  },
  {
   "cell_type": "code",
   "execution_count": 13,
   "metadata": {},
   "outputs": [
    {
     "name": "stdout",
     "output_type": "stream",
     "text": [
      "The Ramicane regimen did not have any statistical outliers.\n",
      "The Capomulin regimen did not have any statistical outliers.\n",
      "The Ceftamin regimen did not have any statistical outliers.\n",
      "The Infubinol regimen has statistical outliers.\n"
     ]
    }
   ],
   "source": [
    "# Outliers\n",
    "for index in range(4):\n",
    "    if index == 0:\n",
    "        outliers = Ramicane_Vols.loc[Ramicane_Vols[\"Tumor Volume (mm3)\"] < regimen_summary.iloc[index, 8]] | Ramicane_Vols.loc[Ramicane_Vols[\"Tumor Volume (mm3)\"] > regimen_summary.iloc[index, 9]]\n",
    "        outliers = outliers.rename(columns={\"Tumor Volume (mm3)\":\"Ramicane Outliers\"})\n",
    "        if len(outliers[\"Ramicane Outliers\"]) == 0:\n",
    "            print(\"The Ramicane regimen did not have any statistical outliers.\")\n",
    "        else:\n",
    "            print(\"The Ramicane regimen has statistical outliers.\")\n",
    "    elif index == 1:\n",
    "        outliers = Capomulin_Vols.loc[Capomulin_Vols[\"Tumor Volume (mm3)\"] < regimen_summary.iloc[index, 8]] | Capomulin_Vols.loc[Capomulin_Vols[\"Tumor Volume (mm3)\"] > regimen_summary.iloc[index, 9]]\n",
    "        outliers = outliers.rename(columns={\"Tumor Volume (mm3)\":\"Capomulin Outliers\"})\n",
    "        if len(outliers[\"Capomulin Outliers\"]) == 0:\n",
    "            print(\"The Capomulin regimen did not have any statistical outliers.\")\n",
    "        else:\n",
    "            print(\"The Capomulin regimen has statistical outliers.\")\n",
    "    elif index == 2:\n",
    "        outliers = Ceftamin_Vols.loc[Ceftamin_Vols[\"Tumor Volume (mm3)\"] < regimen_summary.iloc[index, 8]] | Ceftamin_Vols.loc[Ceftamin_Vols[\"Tumor Volume (mm3)\"] > regimen_summary.iloc[index, 9]]\n",
    "        outliers = outliers.rename(columns={\"Tumor Volume (mm3)\":\"Ceftamin Outliers\"})\n",
    "        if len(outliers[\"Ceftamin Outliers\"]) == 0:\n",
    "            print(\"The Ceftamin regimen did not have any statistical outliers.\")\n",
    "        else:\n",
    "            print(\"The Ceftamin regimen has statistical outliers.\")\n",
    "    elif index == 3:\n",
    "        outliers = Infubinol_Vols.loc[Infubinol_Vols[\"Tumor Volume (mm3)\"] < regimen_summary.iloc[index, 8]] | Infubinol_Vols.loc[Infubinol_Vols[\"Tumor Volume (mm3)\"] > regimen_summary.iloc[index, 9]]\n",
    "        outliers = outliers.rename(columns={\"Tumor Volume (mm3)\":\"Infubinol Outliers\"})\n",
    "        if len(outliers[\"Infubinol Outliers\"]) == 0:\n",
    "            print(\"The Infubinol regimen did not have any statistical outliers.\")\n",
    "        else:\n",
    "            print(\"The Infubinol regimen has statistical outliers.\")"
   ]
  },
  {
   "cell_type": "markdown",
   "metadata": {},
   "source": [
    "# Box Plot Of The Final Tumor Volume Of All Mice In Each Regimen"
   ]
  },
  {
   "cell_type": "markdown",
   "metadata": {},
   "source": [
    "# Outliers Identified As GREEN SQUARES"
   ]
  },
  {
   "cell_type": "code",
   "execution_count": 14,
   "metadata": {},
   "outputs": [
    {
     "data": {
      "image/png": "[encoded data removed]",
      "text/plain": [
       "<Figure size 432x288 with 1 Axes>"
      ]
     },
     "metadata": {
      "needs_background": "light"
     },
     "output_type": "display_data"
    }
   ],
   "source": [
    "# Generate a box plot of the final tumor volume of each mouse across four regimens of interest\n",
    "Mouse_BoxPlots = {\"Ramicane\": final_Ramicane[\"Tumor Volume (mm3)\"], \n",
    "            \"Capomulin\": final_Capomulin[\"Tumor Volume (mm3)\"], \n",
    "            \"Ceftamin\": final_Ceftamin[\"Tumor Volume (mm3)\"], \n",
    "            \"Infubinol\": final_Infubinol[\"Tumor Volume (mm3)\"]}\n",
    "\n",
    "fig, ax = plt.subplots()\n",
    "\n",
    "# Formatting\n",
    "plt.title(\"Final Tumor Box Plots of Each Regimen (Outliers as GREEN SQUARES)\")\n",
    "ax.boxplot(Mouse_BoxPlots.values(), showfliers=True, flierprops={\"markerfacecolor\":'g', \"marker\":'s'})\n",
    "ax.set_xticklabels(Mouse_BoxPlots.keys())\n",
    "ax.set_ylim(10,80)\n",
    "\n",
    "# Show the chart\n",
    "plt.show()"
   ]
  },
  {
   "cell_type": "markdown",
   "metadata": {},
   "source": [
    "## Line and scatter plots\n",
    "# Line Plot Of A Single Mouse (w914)"
   ]
  },
  {
   "cell_type": "code",
   "execution_count": 15,
   "metadata": {},
   "outputs": [
    {
     "data": {
      "image/png": "[encoded data removed]",
      "text/plain": [
       "<Figure size 432x288 with 1 Axes>"
      ]
     },
     "metadata": {
      "needs_background": "light"
     },
     "output_type": "display_data"
    }
   ],
   "source": [
    "# Generate a line plot of time point versus tumor volume for a mouse treated with Capomulin\n",
    "w914_data = merged_data[merged_data[\"Mouse ID\"].isin([\"w914\"])].set_index('Mouse ID')\n",
    "\n",
    "# Collect the mean unemployment rates for the world\n",
    "mouse_tvolumes = w914_data[\"Tumor Volume (mm3)\"]\n",
    "\n",
    "# Collect the years where data was collected\n",
    "mouse_timepoints = w914_data[\"Timepoint\"]\n",
    "\n",
    "# Plot the world average as a line chart\n",
    "plt.plot(mouse_timepoints, mouse_tvolumes, color=\"g\")\n",
    "\n",
    "# Formatting\n",
    "plt.title(\"Mouse 'w914' Tumor Volume Over Time (Capomulin)\")\n",
    "plt.xlabel(\"Timepoints\")\n",
    "plt.ylabel(\"Tumor Volume (mm3)\")\n",
    "plt.grid(True)\n",
    "plt.ylim(32.5, 50)\n",
    "plt.xlim(-5, 50)\n",
    "\n",
    "# Show the chart\n",
    "plt.show()"
   ]
  },
  {
   "cell_type": "markdown",
   "metadata": {},
   "source": [
    "# Scatter Plot Of Mouse Weight v. Avg Tumor Volume (Capomulin)"
   ]
  },
  {
   "cell_type": "code",
   "execution_count": 16,
   "metadata": {},
   "outputs": [
    {
     "data": {
      "image/png": "[encoded data removed]",
      "text/plain": [
       "<Figure size 432x288 with 1 Axes>"
      ]
     },
     "metadata": {
      "needs_background": "light"
     },
     "output_type": "display_data"
    }
   ],
   "source": [
    "# Generate a scatter plot of mouse weight versus average tumor volume for the Capomulin regimen\n",
    "Capomulin_scatter = merged_data[merged_data[\"Drug Regimen\"].isin([\"Capomulin\"])].set_index('Drug Regimen')\n",
    "Capomulin_scatter = Capomulin_scatter.groupby([\"Drug Regimen\", \"Mouse ID\", \"Weight (g)\"])[\"Tumor Volume (mm3)\"].mean().to_frame()\n",
    "\n",
    "# Because one of our columns that we need to plot is part of an index, we must reset our index\n",
    "Capomulin_scatter.reset_index(inplace=True)\n",
    "\n",
    "# Plot this bad boy\n",
    "ax = Capomulin_scatter.plot.scatter(x=\"Weight (g)\", y=\"Tumor Volume (mm3)\", marker=\"s\", grid=True)\n",
    "\n",
    "# Formatting\n",
    "ax.set_xlabel(\"Weight (g)\")\n",
    "ax.set_ylabel(\"Average Tumor Volume (mm3)\")\n",
    "ax.set_xlim(12.5, 27.5)\n",
    "ax.set_ylim(32.5, 47.5)\n",
    "plt.title(\"Mouse Weight v. Average Tumor Volume (Capomulin)\")\n",
    "\n",
    "# Show the chart\n",
    "plt.show()"
   ]
  },
  {
   "cell_type": "markdown",
   "metadata": {},
   "source": [
    "# Linear Regression Model\n",
    "# Mouse Weight v. Avg Tumor Volume (Capomulin)"
   ]
  },
  {
   "cell_type": "code",
   "execution_count": 17,
   "metadata": {},
   "outputs": [
    {
     "name": "stdout",
     "output_type": "stream",
     "text": [
      "The correlation coefficient is: 0.8419363424694718\n"
     ]
    },
    {
     "data": {
      "image/png": "[encoded data removed]",
      "text/plain": [
       "<Figure size 432x288 with 1 Axes>"
      ]
     },
     "metadata": {
      "needs_background": "light"
     },
     "output_type": "display_data"
    }
   ],
   "source": [
    "# Calculate the correlation coefficient and linear regression model for\n",
    "# mouse weight and average tumor volume for the Capomulin regimen\n",
    "x_values = Capomulin_scatter[\"Weight (g)\"]\n",
    "y_values = Capomulin_scatter[\"Tumor Volume (mm3)\"]\n",
    "(slope, intercept, rvalue, pvalue, stderr) = st.linregress(x_values, y_values)\n",
    "\n",
    "# Get regression values (mx+b)\n",
    "regress_values = x_values * slope + intercept\n",
    "\n",
    "# Plot our results\n",
    "ax = plt.plot(x_values, regress_values, \"b-\")\n",
    "ax = plt.scatter(x_values, y_values, marker=\"s\")\n",
    "\n",
    "# Formatting\n",
    "plt.xlabel(\"Weight (g)\")\n",
    "plt.ylabel(\"Average Tumor Volume (mm3)\")\n",
    "plt.xlim(12.5, 27.5)\n",
    "plt.ylim(32.5, 47.5)\n",
    "plt.title(\"Linear Regression Model: Mouse Weight v. Average Tumor Volume (Capomulin)\")\n",
    "\n",
    "# Show the chart\n",
    "print(f\"The correlation coefficient is: {rvalue}\")\n",
    "plt.show()"
   ]
  }
 ],
 "metadata": {
  "anaconda-cloud": {},
  "kernelspec": {
   "display_name": "Python 3",
   "language": "python",
   "name": "python3"
  },
  "language_info": {
   "codemirror_mode": {
    "name": "ipython",
    "version": 3
   },
   "file_extension": ".py",
   "mimetype": "text/x-python",
   "name": "python",
   "nbconvert_exporter": "python",
   "pygments_lexer": "ipython3",
   "version": "3.7.4"
  }
 },
 "nbformat": 4,
 "nbformat_minor": 2
}
